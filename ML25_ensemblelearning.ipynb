{
  "nbformat": 4,
  "nbformat_minor": 0,
  "metadata": {
    "colab": {
      "provenance": []
    },
    "kernelspec": {
      "name": "python3",
      "display_name": "Python 3"
    },
    "language_info": {
      "name": "python"
    }
  },
  "cells": [
    {
      "cell_type": "code",
      "execution_count": null,
      "metadata": {
        "id": "tctIr5QLbMTJ"
      },
      "outputs": [],
      "source": [
        "# ensemble learning--->"
      ]
    },
    {
      "cell_type": "code",
      "source": [
        "import numpy as np\n",
        "import pandas as pd\n",
        "from sklearn.ensemble import RandomForestClassifier\n",
        "from sklearn.datasets import make_classification\n",
        "from sklearn.model_selection import train_test_split\n",
        "from sklearn.metrics import accuracy_score"
      ],
      "metadata": {
        "id": "-OTbw9YveWMB"
      },
      "execution_count": null,
      "outputs": []
    },
    {
      "cell_type": "code",
      "source": [
        "# Generate a synthetic dataset\n",
        "x,y=make_classification(n_samples=1000,n_features=20,random_state=42)\n",
        "\n",
        "# Split the dataset into training and testing sets\n",
        "x_train,x_test,y_train,y_test=train_test_split(x,y,test_size=0.2,random_state=42)\n",
        "\n",
        "# initialize a list to store the base learners\n",
        "base_learners=[]\n",
        "\n",
        "# Number of base learners\n",
        "num_base_learners=10\n",
        "\n",
        "# Train the base learners\n",
        "for i in range(num_base_learners):\n",
        "  # create a bootstrap sample of the training data\n",
        "  bootstrap_indices=np.random.choice(len(x_train),size=len(x_train),replace=True)\n",
        "  bootstrap_x=x_train[bootstrap_indices]\n",
        "  bootstrap_y=y_train[bootstrap_indices]\n",
        "\n",
        "  # Create and train a base learner (Random Forest)\n",
        "base_learner =RandomForestClassifier(n_estimators=100,random_state=42)\n",
        "base_learner.fit(bootstrap_x,bootstrap_y)\n",
        "\n",
        "# Add the trained base learner to the list\n",
        "base_learners.append(base_learners)\n",
        "\n",
        "# make predictions with each base learner\n",
        "\n",
        "base_predictions=[]\n",
        "for base_learners in base_learners:\n",
        "  y_pred=base_learner.predict(x_test)\n",
        "  base_predictions.append(y_pred)\n",
        "\n",
        "# combine the predictions using majority voting\n",
        "ensemble_predictions=np.round(np.mean(base_predictions,axis=0))\n",
        "\n",
        "# calculate the accuracy of the ensemble predictions\n",
        "accuracy=accuracy_score(y_test,ensemble_predictions)\n",
        "print(\"Ensemble Accurecy\",accuracy)\n",
        "\n",
        "\n"
      ],
      "metadata": {
        "colab": {
          "base_uri": "https://localhost:8080/"
        },
        "id": "i3tRJIZfezaE",
        "outputId": "ead742fd-efb5-4838-964a-70cdd196d94a"
      },
      "execution_count": null,
      "outputs": [
        {
          "output_type": "stream",
          "name": "stdout",
          "text": [
            "Ensemble Accurecy 0.885\n"
          ]
        }
      ]
    },
    {
      "cell_type": "code",
      "source": [],
      "metadata": {
        "id": "eBG6GbCEgMIQ"
      },
      "execution_count": null,
      "outputs": []
    }
  ]
}